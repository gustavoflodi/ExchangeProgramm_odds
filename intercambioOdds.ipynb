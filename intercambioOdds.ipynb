{
 "cells": [
  {
   "cell_type": "code",
   "execution_count": 56,
   "metadata": {},
   "outputs": [
    {
     "name": "stdout",
     "output_type": "stream",
     "text": [
      "['7.381', '7.708', '7.752', '8.110', '8.396', '8.397']\n",
      "0.8939\n"
     ]
    }
   ],
   "source": [
    "import numpy as np\n",
    "\n",
    "def findMinIndex(A, start):  \n",
    "    min_index = start  \n",
    "  \n",
    "    start += 1  \n",
    "  \n",
    "    while start < len(A):  \n",
    "        if A[start] < A[min_index]:  \n",
    "            min_index = start  \n",
    "  \n",
    "        start += 1  \n",
    "  \n",
    "    return min_index  \n",
    "  \n",
    "def selectionSort(A):  \n",
    "    i = 0  \n",
    "  \n",
    "    while i < len(A):  \n",
    "        min_index = findMinIndex(A, i)  \n",
    "  \n",
    "        if i != min_index:  \n",
    "            A[i], A[min_index] = A[min_index], A[i]  \n",
    "          \n",
    "        i += 1  \n",
    "    \n",
    "count = 0\n",
    "for num in range(10000):\n",
    "    A = list()\n",
    "    # generates list of 4 float values\n",
    "    for item in range(6):\n",
    "        A.append(np.random.normal(8, 0.511)) \n",
    "    selectionSort(A)  \n",
    "    if A[1] < 7.995:\n",
    "        count = count + 1\n",
    "formattedList = ['%.3f' % num for num in A]\n",
    "print(formattedList)\n",
    "print(count/10000)\n"
   ]
  },
  {
   "cell_type": "code",
   "execution_count": 8,
   "metadata": {},
   "outputs": [
    {
     "data": {
      "image/png": "[encoded data removed]",
      "text/plain": [
       "<Figure size 432x288 with 1 Axes>"
      ]
     },
     "metadata": {
      "needs_background": "light"
     },
     "output_type": "display_data"
    }
   ],
   "source": [
    "import matplotlib.pyplot as plt\n",
    "mu = 7.7\n",
    "sigma = 0.511\n",
    "s = np.random.normal(mu, sigma, 100000)\n",
    "count, bins, ignored = plt.hist(s, 30, density=True)\n",
    "plt.plot(bins, 1/(sigma * np.sqrt(2 * np.pi)) *\n",
    "               np.exp( - (bins - mu)**2 / (2 * sigma**2) ),\n",
    "         linewidth=2, color='r')\n",
    "plt.show()"
   ]
  },
  {
   "cell_type": "code",
   "execution_count": null,
   "metadata": {},
   "outputs": [],
   "source": []
  }
 ],
 "metadata": {
  "kernelspec": {
   "display_name": "Python 3",
   "language": "python",
   "name": "python3"
  },
  "language_info": {
   "codemirror_mode": {
    "name": "ipython",
    "version": 3
   },
   "file_extension": ".py",
   "mimetype": "text/x-python",
   "name": "python",
   "nbconvert_exporter": "python",
   "pygments_lexer": "ipython3",
   "version": "3.8.5"
  }
 },
 "nbformat": 4,
 "nbformat_minor": 4
}
